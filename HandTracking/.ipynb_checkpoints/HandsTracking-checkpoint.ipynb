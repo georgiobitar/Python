{
 "cells": [
  {
   "cell_type": "code",
   "execution_count": null,
   "id": "architectural-dairy",
   "metadata": {},
   "outputs": [],
   "source": [
    "import cv2\n",
    "import mediapipe as mp\n",
    "import time #Frames\n",
    "\n",
    "\n",
    "cap = cv2.VideoCapture(0)\n",
    "address = \"http://192.168.1.108:4747/video\"\n",
    "cap.open(address)\n",
    "\n",
    "while True:\n",
    "  success, img = cap.read()\n",
    "\n",
    "  cv2.imshow(\"Image\",img)\n",
    "  cv2.waitKey(1)"
   ]
  },
  {
   "cell_type": "code",
   "execution_count": null,
   "id": "approximate-quantum",
   "metadata": {},
   "outputs": [],
   "source": []
  }
 ],
 "metadata": {
  "kernelspec": {
   "display_name": "Python 3",
   "language": "python",
   "name": "python3"
  },
  "language_info": {
   "codemirror_mode": {
    "name": "ipython",
    "version": 3
   },
   "file_extension": ".py",
   "mimetype": "text/x-python",
   "name": "python",
   "nbconvert_exporter": "python",
   "pygments_lexer": "ipython3",
   "version": "3.8.8"
  }
 },
 "nbformat": 4,
 "nbformat_minor": 5
}
